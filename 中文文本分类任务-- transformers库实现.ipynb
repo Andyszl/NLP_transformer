{
 "metadata": {
  "colab": {
   "provenance": [],
   "authorship_tag": "ABX9TyMyNMY/ELygwHG59yYZaDEx"
  },
  "kernelspec": {
   "name": "python3",
   "display_name": "Python 3",
   "language": "python"
  },
  "language_info": {
   "name": "python",
   "version": "3.10.13",
   "mimetype": "text/x-python",
   "codemirror_mode": {
    "name": "ipython",
    "version": 3
   },
   "pygments_lexer": "ipython3",
   "nbconvert_exporter": "python",
   "file_extension": ".py"
  },
  "widgets": {
   "application/vnd.jupyter.widget-state+json": {
    "3416fe7cbaa84edfa41ffa1153446f4d": {
     "model_module": "@jupyter-widgets/controls",
     "model_name": "HBoxModel",
     "model_module_version": "1.5.0",
     "state": {
      "_dom_classes": [],
      "_model_module": "@jupyter-widgets/controls",
      "_model_module_version": "1.5.0",
      "_model_name": "HBoxModel",
      "_view_count": null,
      "_view_module": "@jupyter-widgets/controls",
      "_view_module_version": "1.5.0",
      "_view_name": "HBoxView",
      "box_style": "",
      "children": [
       "IPY_MODEL_bb905fe41012460791acbae6b2e62b54",
       "IPY_MODEL_22b683076c194c97afb04e6d58a49bc6",
       "IPY_MODEL_7438089341eb4f778c6944b8a5fb981e"
      ],
      "layout": "IPY_MODEL_3b4ecd8a01534f7eaaf88b9ad3394ab6"
     }
    },
    "bb905fe41012460791acbae6b2e62b54": {
     "model_module": "@jupyter-widgets/controls",
     "model_name": "HTMLModel",
     "model_module_version": "1.5.0",
     "state": {
      "_dom_classes": [],
      "_model_module": "@jupyter-widgets/controls",
      "_model_module_version": "1.5.0",
      "_model_name": "HTMLModel",
      "_view_count": null,
      "_view_module": "@jupyter-widgets/controls",
      "_view_module_version": "1.5.0",
      "_view_name": "HTMLView",
      "description": "",
      "description_tooltip": null,
      "layout": "IPY_MODEL_8e6260458b394e27ad1d7b15f9a2ca70",
      "placeholder": "​",
      "style": "IPY_MODEL_76b683ef96354f129e0d6dc8139a708c",
      "value": "Filter: 100%"
     }
    },
    "22b683076c194c97afb04e6d58a49bc6": {
     "model_module": "@jupyter-widgets/controls",
     "model_name": "FloatProgressModel",
     "model_module_version": "1.5.0",
     "state": {
      "_dom_classes": [],
      "_model_module": "@jupyter-widgets/controls",
      "_model_module_version": "1.5.0",
      "_model_name": "FloatProgressModel",
      "_view_count": null,
      "_view_module": "@jupyter-widgets/controls",
      "_view_module_version": "1.5.0",
      "_view_name": "ProgressView",
      "bar_style": "success",
      "description": "",
      "description_tooltip": null,
      "layout": "IPY_MODEL_1698127dba844948bef02b7a52df53d8",
      "max": 1000,
      "min": 0,
      "orientation": "horizontal",
      "style": "IPY_MODEL_bbb373a7513e4cb38f9125271ffb247f",
      "value": 1000
     }
    },
    "7438089341eb4f778c6944b8a5fb981e": {
     "model_module": "@jupyter-widgets/controls",
     "model_name": "HTMLModel",
     "model_module_version": "1.5.0",
     "state": {
      "_dom_classes": [],
      "_model_module": "@jupyter-widgets/controls",
      "_model_module_version": "1.5.0",
      "_model_name": "HTMLModel",
      "_view_count": null,
      "_view_module": "@jupyter-widgets/controls",
      "_view_module_version": "1.5.0",
      "_view_name": "HTMLView",
      "description": "",
      "description_tooltip": null,
      "layout": "IPY_MODEL_50e972df1bb54407a870846df7fae853",
      "placeholder": "​",
      "style": "IPY_MODEL_d6523dd8d52b474cb1ad269efbe412d4",
      "value": " 1000/1000 [00:00&lt;00:00, 3290.98 examples/s]"
     }
    },
    "3b4ecd8a01534f7eaaf88b9ad3394ab6": {
     "model_module": "@jupyter-widgets/base",
     "model_name": "LayoutModel",
     "model_module_version": "1.2.0",
     "state": {
      "_model_module": "@jupyter-widgets/base",
      "_model_module_version": "1.2.0",
      "_model_name": "LayoutModel",
      "_view_count": null,
      "_view_module": "@jupyter-widgets/base",
      "_view_module_version": "1.2.0",
      "_view_name": "LayoutView",
      "align_content": null,
      "align_items": null,
      "align_self": null,
      "border": null,
      "bottom": null,
      "display": null,
      "flex": null,
      "flex_flow": null,
      "grid_area": null,
      "grid_auto_columns": null,
      "grid_auto_flow": null,
      "grid_auto_rows": null,
      "grid_column": null,
      "grid_gap": null,
      "grid_row": null,
      "grid_template_areas": null,
      "grid_template_columns": null,
      "grid_template_rows": null,
      "height": null,
      "justify_content": null,
      "justify_items": null,
      "left": null,
      "margin": null,
      "max_height": null,
      "max_width": null,
      "min_height": null,
      "min_width": null,
      "object_fit": null,
      "object_position": null,
      "order": null,
      "overflow": null,
      "overflow_x": null,
      "overflow_y": null,
      "padding": null,
      "right": null,
      "top": null,
      "visibility": null,
      "width": null
     }
    },
    "8e6260458b394e27ad1d7b15f9a2ca70": {
     "model_module": "@jupyter-widgets/base",
     "model_name": "LayoutModel",
     "model_module_version": "1.2.0",
     "state": {
      "_model_module": "@jupyter-widgets/base",
      "_model_module_version": "1.2.0",
      "_model_name": "LayoutModel",
      "_view_count": null,
      "_view_module": "@jupyter-widgets/base",
      "_view_module_version": "1.2.0",
      "_view_name": "LayoutView",
      "align_content": null,
      "align_items": null,
      "align_self": null,
      "border": null,
      "bottom": null,
      "display": null,
      "flex": null,
      "flex_flow": null,
      "grid_area": null,
      "grid_auto_columns": null,
      "grid_auto_flow": null,
      "grid_auto_rows": null,
      "grid_column": null,
      "grid_gap": null,
      "grid_row": null,
      "grid_template_areas": null,
      "grid_template_columns": null,
      "grid_template_rows": null,
      "height": null,
      "justify_content": null,
      "justify_items": null,
      "left": null,
      "margin": null,
      "max_height": null,
      "max_width": null,
      "min_height": null,
      "min_width": null,
      "object_fit": null,
      "object_position": null,
      "order": null,
      "overflow": null,
      "overflow_x": null,
      "overflow_y": null,
      "padding": null,
      "right": null,
      "top": null,
      "visibility": null,
      "width": null
     }
    },
    "76b683ef96354f129e0d6dc8139a708c": {
     "model_module": "@jupyter-widgets/controls",
     "model_name": "DescriptionStyleModel",
     "model_module_version": "1.5.0",
     "state": {
      "_model_module": "@jupyter-widgets/controls",
      "_model_module_version": "1.5.0",
      "_model_name": "DescriptionStyleModel",
      "_view_count": null,
      "_view_module": "@jupyter-widgets/base",
      "_view_module_version": "1.2.0",
      "_view_name": "StyleView",
      "description_width": ""
     }
    },
    "1698127dba844948bef02b7a52df53d8": {
     "model_module": "@jupyter-widgets/base",
     "model_name": "LayoutModel",
     "model_module_version": "1.2.0",
     "state": {
      "_model_module": "@jupyter-widgets/base",
      "_model_module_version": "1.2.0",
      "_model_name": "LayoutModel",
      "_view_count": null,
      "_view_module": "@jupyter-widgets/base",
      "_view_module_version": "1.2.0",
      "_view_name": "LayoutView",
      "align_content": null,
      "align_items": null,
      "align_self": null,
      "border": null,
      "bottom": null,
      "display": null,
      "flex": null,
      "flex_flow": null,
      "grid_area": null,
      "grid_auto_columns": null,
      "grid_auto_flow": null,
      "grid_auto_rows": null,
      "grid_column": null,
      "grid_gap": null,
      "grid_row": null,
      "grid_template_areas": null,
      "grid_template_columns": null,
      "grid_template_rows": null,
      "height": null,
      "justify_content": null,
      "justify_items": null,
      "left": null,
      "margin": null,
      "max_height": null,
      "max_width": null,
      "min_height": null,
      "min_width": null,
      "object_fit": null,
      "object_position": null,
      "order": null,
      "overflow": null,
      "overflow_x": null,
      "overflow_y": null,
      "padding": null,
      "right": null,
      "top": null,
      "visibility": null,
      "width": null
     }
    },
    "bbb373a7513e4cb38f9125271ffb247f": {
     "model_module": "@jupyter-widgets/controls",
     "model_name": "ProgressStyleModel",
     "model_module_version": "1.5.0",
     "state": {
      "_model_module": "@jupyter-widgets/controls",
      "_model_module_version": "1.5.0",
      "_model_name": "ProgressStyleModel",
      "_view_count": null,
      "_view_module": "@jupyter-widgets/base",
      "_view_module_version": "1.2.0",
      "_view_name": "StyleView",
      "bar_color": null,
      "description_width": ""
     }
    },
    "50e972df1bb54407a870846df7fae853": {
     "model_module": "@jupyter-widgets/base",
     "model_name": "LayoutModel",
     "model_module_version": "1.2.0",
     "state": {
      "_model_module": "@jupyter-widgets/base",
      "_model_module_version": "1.2.0",
      "_model_name": "LayoutModel",
      "_view_count": null,
      "_view_module": "@jupyter-widgets/base",
      "_view_module_version": "1.2.0",
      "_view_name": "LayoutView",
      "align_content": null,
      "align_items": null,
      "align_self": null,
      "border": null,
      "bottom": null,
      "display": null,
      "flex": null,
      "flex_flow": null,
      "grid_area": null,
      "grid_auto_columns": null,
      "grid_auto_flow": null,
      "grid_auto_rows": null,
      "grid_column": null,
      "grid_gap": null,
      "grid_row": null,
      "grid_template_areas": null,
      "grid_template_columns": null,
      "grid_template_rows": null,
      "height": null,
      "justify_content": null,
      "justify_items": null,
      "left": null,
      "margin": null,
      "max_height": null,
      "max_width": null,
      "min_height": null,
      "min_width": null,
      "object_fit": null,
      "object_position": null,
      "order": null,
      "overflow": null,
      "overflow_x": null,
      "overflow_y": null,
      "padding": null,
      "right": null,
      "top": null,
      "visibility": null,
      "width": null
     }
    },
    "d6523dd8d52b474cb1ad269efbe412d4": {
     "model_module": "@jupyter-widgets/controls",
     "model_name": "DescriptionStyleModel",
     "model_module_version": "1.5.0",
     "state": {
      "_model_module": "@jupyter-widgets/controls",
      "_model_module_version": "1.5.0",
      "_model_name": "DescriptionStyleModel",
      "_view_count": null,
      "_view_module": "@jupyter-widgets/base",
      "_view_module_version": "1.2.0",
      "_view_name": "StyleView",
      "description_width": ""
     }
    },
    "f5ebeb6410774a37bd944fcbd5133340": {
     "model_module": "@jupyter-widgets/controls",
     "model_name": "HBoxModel",
     "model_module_version": "1.5.0",
     "state": {
      "_dom_classes": [],
      "_model_module": "@jupyter-widgets/controls",
      "_model_module_version": "1.5.0",
      "_model_name": "HBoxModel",
      "_view_count": null,
      "_view_module": "@jupyter-widgets/controls",
      "_view_module_version": "1.5.0",
      "_view_name": "HBoxView",
      "box_style": "",
      "children": [
       "IPY_MODEL_eb556bb7152945b0999b00dc370f8b25",
       "IPY_MODEL_3cce2bcdf841494f9c162075535919d8",
       "IPY_MODEL_3ceccf0093754db4a5125ea3bbe5a734"
      ],
      "layout": "IPY_MODEL_863a96d705794567959dc753f02b4527"
     }
    },
    "eb556bb7152945b0999b00dc370f8b25": {
     "model_module": "@jupyter-widgets/controls",
     "model_name": "HTMLModel",
     "model_module_version": "1.5.0",
     "state": {
      "_dom_classes": [],
      "_model_module": "@jupyter-widgets/controls",
      "_model_module_version": "1.5.0",
      "_model_name": "HTMLModel",
      "_view_count": null,
      "_view_module": "@jupyter-widgets/controls",
      "_view_module_version": "1.5.0",
      "_view_name": "HTMLView",
      "description": "",
      "description_tooltip": null,
      "layout": "IPY_MODEL_fdc71d5144b94ebc81b6488de37ee496",
      "placeholder": "​",
      "style": "IPY_MODEL_3d854c88d8fe467a8baa2b03e27b4f4f",
      "value": "Map: 100%"
     }
    },
    "3cce2bcdf841494f9c162075535919d8": {
     "model_module": "@jupyter-widgets/controls",
     "model_name": "FloatProgressModel",
     "model_module_version": "1.5.0",
     "state": {
      "_dom_classes": [],
      "_model_module": "@jupyter-widgets/controls",
      "_model_module_version": "1.5.0",
      "_model_name": "FloatProgressModel",
      "_view_count": null,
      "_view_module": "@jupyter-widgets/controls",
      "_view_module_version": "1.5.0",
      "_view_name": "ProgressView",
      "bar_style": "success",
      "description": "",
      "description_tooltip": null,
      "layout": "IPY_MODEL_469283e4b8c04bf9855fc3bfa45d24db",
      "max": 800,
      "min": 0,
      "orientation": "horizontal",
      "style": "IPY_MODEL_fb57af09e4ba4854a0af95a23badc9a2",
      "value": 800
     }
    },
    "3ceccf0093754db4a5125ea3bbe5a734": {
     "model_module": "@jupyter-widgets/controls",
     "model_name": "HTMLModel",
     "model_module_version": "1.5.0",
     "state": {
      "_dom_classes": [],
      "_model_module": "@jupyter-widgets/controls",
      "_model_module_version": "1.5.0",
      "_model_name": "HTMLModel",
      "_view_count": null,
      "_view_module": "@jupyter-widgets/controls",
      "_view_module_version": "1.5.0",
      "_view_name": "HTMLView",
      "description": "",
      "description_tooltip": null,
      "layout": "IPY_MODEL_7e18207e063f4970828888aa9e2e33f6",
      "placeholder": "​",
      "style": "IPY_MODEL_4380f65859b04d76a37e6573445c50f0",
      "value": " 800/800 [00:03&lt;00:00, 222.11 examples/s]"
     }
    },
    "863a96d705794567959dc753f02b4527": {
     "model_module": "@jupyter-widgets/base",
     "model_name": "LayoutModel",
     "model_module_version": "1.2.0",
     "state": {
      "_model_module": "@jupyter-widgets/base",
      "_model_module_version": "1.2.0",
      "_model_name": "LayoutModel",
      "_view_count": null,
      "_view_module": "@jupyter-widgets/base",
      "_view_module_version": "1.2.0",
      "_view_name": "LayoutView",
      "align_content": null,
      "align_items": null,
      "align_self": null,
      "border": null,
      "bottom": null,
      "display": null,
      "flex": null,
      "flex_flow": null,
      "grid_area": null,
      "grid_auto_columns": null,
      "grid_auto_flow": null,
      "grid_auto_rows": null,
      "grid_column": null,
      "grid_gap": null,
      "grid_row": null,
      "grid_template_areas": null,
      "grid_template_columns": null,
      "grid_template_rows": null,
      "height": null,
      "justify_content": null,
      "justify_items": null,
      "left": null,
      "margin": null,
      "max_height": null,
      "max_width": null,
      "min_height": null,
      "min_width": null,
      "object_fit": null,
      "object_position": null,
      "order": null,
      "overflow": null,
      "overflow_x": null,
      "overflow_y": null,
      "padding": null,
      "right": null,
      "top": null,
      "visibility": null,
      "width": null
     }
    },
    "fdc71d5144b94ebc81b6488de37ee496": {
     "model_module": "@jupyter-widgets/base",
     "model_name": "LayoutModel",
     "model_module_version": "1.2.0",
     "state": {
      "_model_module": "@jupyter-widgets/base",
      "_model_module_version": "1.2.0",
      "_model_name": "LayoutModel",
      "_view_count": null,
      "_view_module": "@jupyter-widgets/base",
      "_view_module_version": "1.2.0",
      "_view_name": "LayoutView",
      "align_content": null,
      "align_items": null,
      "align_self": null,
      "border": null,
      "bottom": null,
      "display": null,
      "flex": null,
      "flex_flow": null,
      "grid_area": null,
      "grid_auto_columns": null,
      "grid_auto_flow": null,
      "grid_auto_rows": null,
      "grid_column": null,
      "grid_gap": null,
      "grid_row": null,
      "grid_template_areas": null,
      "grid_template_columns": null,
      "grid_template_rows": null,
      "height": null,
      "justify_content": null,
      "justify_items": null,
      "left": null,
      "margin": null,
      "max_height": null,
      "max_width": null,
      "min_height": null,
      "min_width": null,
      "object_fit": null,
      "object_position": null,
      "order": null,
      "overflow": null,
      "overflow_x": null,
      "overflow_y": null,
      "padding": null,
      "right": null,
      "top": null,
      "visibility": null,
      "width": null
     }
    },
    "3d854c88d8fe467a8baa2b03e27b4f4f": {
     "model_module": "@jupyter-widgets/controls",
     "model_name": "DescriptionStyleModel",
     "model_module_version": "1.5.0",
     "state": {
      "_model_module": "@jupyter-widgets/controls",
      "_model_module_version": "1.5.0",
      "_model_name": "DescriptionStyleModel",
      "_view_count": null,
      "_view_module": "@jupyter-widgets/base",
      "_view_module_version": "1.2.0",
      "_view_name": "StyleView",
      "description_width": ""
     }
    },
    "469283e4b8c04bf9855fc3bfa45d24db": {
     "model_module": "@jupyter-widgets/base",
     "model_name": "LayoutModel",
     "model_module_version": "1.2.0",
     "state": {
      "_model_module": "@jupyter-widgets/base",
      "_model_module_version": "1.2.0",
      "_model_name": "LayoutModel",
      "_view_count": null,
      "_view_module": "@jupyter-widgets/base",
      "_view_module_version": "1.2.0",
      "_view_name": "LayoutView",
      "align_content": null,
      "align_items": null,
      "align_self": null,
      "border": null,
      "bottom": null,
      "display": null,
      "flex": null,
      "flex_flow": null,
      "grid_area": null,
      "grid_auto_columns": null,
      "grid_auto_flow": null,
      "grid_auto_rows": null,
      "grid_column": null,
      "grid_gap": null,
      "grid_row": null,
      "grid_template_areas": null,
      "grid_template_columns": null,
      "grid_template_rows": null,
      "height": null,
      "justify_content": null,
      "justify_items": null,
      "left": null,
      "margin": null,
      "max_height": null,
      "max_width": null,
      "min_height": null,
      "min_width": null,
      "object_fit": null,
      "object_position": null,
      "order": null,
      "overflow": null,
      "overflow_x": null,
      "overflow_y": null,
      "padding": null,
      "right": null,
      "top": null,
      "visibility": null,
      "width": null
     }
    },
    "fb57af09e4ba4854a0af95a23badc9a2": {
     "model_module": "@jupyter-widgets/controls",
     "model_name": "ProgressStyleModel",
     "model_module_version": "1.5.0",
     "state": {
      "_model_module": "@jupyter-widgets/controls",
      "_model_module_version": "1.5.0",
      "_model_name": "ProgressStyleModel",
      "_view_count": null,
      "_view_module": "@jupyter-widgets/base",
      "_view_module_version": "1.2.0",
      "_view_name": "StyleView",
      "bar_color": null,
      "description_width": ""
     }
    },
    "7e18207e063f4970828888aa9e2e33f6": {
     "model_module": "@jupyter-widgets/base",
     "model_name": "LayoutModel",
     "model_module_version": "1.2.0",
     "state": {
      "_model_module": "@jupyter-widgets/base",
      "_model_module_version": "1.2.0",
      "_model_name": "LayoutModel",
      "_view_count": null,
      "_view_module": "@jupyter-widgets/base",
      "_view_module_version": "1.2.0",
      "_view_name": "LayoutView",
      "align_content": null,
      "align_items": null,
      "align_self": null,
      "border": null,
      "bottom": null,
      "display": null,
      "flex": null,
      "flex_flow": null,
      "grid_area": null,
      "grid_auto_columns": null,
      "grid_auto_flow": null,
      "grid_auto_rows": null,
      "grid_column": null,
      "grid_gap": null,
      "grid_row": null,
      "grid_template_areas": null,
      "grid_template_columns": null,
      "grid_template_rows": null,
      "height": null,
      "justify_content": null,
      "justify_items": null,
      "left": null,
      "margin": null,
      "max_height": null,
      "max_width": null,
      "min_height": null,
      "min_width": null,
      "object_fit": null,
      "object_position": null,
      "order": null,
      "overflow": null,
      "overflow_x": null,
      "overflow_y": null,
      "padding": null,
      "right": null,
      "top": null,
      "visibility": null,
      "width": null
     }
    },
    "4380f65859b04d76a37e6573445c50f0": {
     "model_module": "@jupyter-widgets/controls",
     "model_name": "DescriptionStyleModel",
     "model_module_version": "1.5.0",
     "state": {
      "_model_module": "@jupyter-widgets/controls",
      "_model_module_version": "1.5.0",
      "_model_name": "DescriptionStyleModel",
      "_view_count": null,
      "_view_module": "@jupyter-widgets/base",
      "_view_module_version": "1.2.0",
      "_view_name": "StyleView",
      "description_width": ""
     }
    },
    "143f8c00edef4a3c98ad73056b9ce5d7": {
     "model_module": "@jupyter-widgets/controls",
     "model_name": "HBoxModel",
     "model_module_version": "1.5.0",
     "state": {
      "_dom_classes": [],
      "_model_module": "@jupyter-widgets/controls",
      "_model_module_version": "1.5.0",
      "_model_name": "HBoxModel",
      "_view_count": null,
      "_view_module": "@jupyter-widgets/controls",
      "_view_module_version": "1.5.0",
      "_view_name": "HBoxView",
      "box_style": "",
      "children": [
       "IPY_MODEL_7c1521d7e3d043698bf39521f12cf23f",
       "IPY_MODEL_c0d12876ed13463981635f56a7cd90a1",
       "IPY_MODEL_b797977efdb14ba3b8d91ccc782f9cab"
      ],
      "layout": "IPY_MODEL_869edde2f4e341f098d2a63d288114e1"
     }
    },
    "7c1521d7e3d043698bf39521f12cf23f": {
     "model_module": "@jupyter-widgets/controls",
     "model_name": "HTMLModel",
     "model_module_version": "1.5.0",
     "state": {
      "_dom_classes": [],
      "_model_module": "@jupyter-widgets/controls",
      "_model_module_version": "1.5.0",
      "_model_name": "HTMLModel",
      "_view_count": null,
      "_view_module": "@jupyter-widgets/controls",
      "_view_module_version": "1.5.0",
      "_view_name": "HTMLView",
      "description": "",
      "description_tooltip": null,
      "layout": "IPY_MODEL_f60a120c0bea4df0af976f5d97d5d865",
      "placeholder": "​",
      "style": "IPY_MODEL_ed7a6e67d632429e89b8f7486319c271",
      "value": "Map: 100%"
     }
    },
    "c0d12876ed13463981635f56a7cd90a1": {
     "model_module": "@jupyter-widgets/controls",
     "model_name": "FloatProgressModel",
     "model_module_version": "1.5.0",
     "state": {
      "_dom_classes": [],
      "_model_module": "@jupyter-widgets/controls",
      "_model_module_version": "1.5.0",
      "_model_name": "FloatProgressModel",
      "_view_count": null,
      "_view_module": "@jupyter-widgets/controls",
      "_view_module_version": "1.5.0",
      "_view_name": "ProgressView",
      "bar_style": "success",
      "description": "",
      "description_tooltip": null,
      "layout": "IPY_MODEL_0a1450165571475a9da41899833288eb",
      "max": 200,
      "min": 0,
      "orientation": "horizontal",
      "style": "IPY_MODEL_a661051372094734ae889a6fee426ff0",
      "value": 200
     }
    },
    "b797977efdb14ba3b8d91ccc782f9cab": {
     "model_module": "@jupyter-widgets/controls",
     "model_name": "HTMLModel",
     "model_module_version": "1.5.0",
     "state": {
      "_dom_classes": [],
      "_model_module": "@jupyter-widgets/controls",
      "_model_module_version": "1.5.0",
      "_model_name": "HTMLModel",
      "_view_count": null,
      "_view_module": "@jupyter-widgets/controls",
      "_view_module_version": "1.5.0",
      "_view_name": "HTMLView",
      "description": "",
      "description_tooltip": null,
      "layout": "IPY_MODEL_a5725bfd54484565ba3b1b785e00bccd",
      "placeholder": "​",
      "style": "IPY_MODEL_67d7dbeaadc845b2856f2a9d039e738d",
      "value": " 200/200 [00:00&lt;00:00, 278.35 examples/s]"
     }
    },
    "869edde2f4e341f098d2a63d288114e1": {
     "model_module": "@jupyter-widgets/base",
     "model_name": "LayoutModel",
     "model_module_version": "1.2.0",
     "state": {
      "_model_module": "@jupyter-widgets/base",
      "_model_module_version": "1.2.0",
      "_model_name": "LayoutModel",
      "_view_count": null,
      "_view_module": "@jupyter-widgets/base",
      "_view_module_version": "1.2.0",
      "_view_name": "LayoutView",
      "align_content": null,
      "align_items": null,
      "align_self": null,
      "border": null,
      "bottom": null,
      "display": null,
      "flex": null,
      "flex_flow": null,
      "grid_area": null,
      "grid_auto_columns": null,
      "grid_auto_flow": null,
      "grid_auto_rows": null,
      "grid_column": null,
      "grid_gap": null,
      "grid_row": null,
      "grid_template_areas": null,
      "grid_template_columns": null,
      "grid_template_rows": null,
      "height": null,
      "justify_content": null,
      "justify_items": null,
      "left": null,
      "margin": null,
      "max_height": null,
      "max_width": null,
      "min_height": null,
      "min_width": null,
      "object_fit": null,
      "object_position": null,
      "order": null,
      "overflow": null,
      "overflow_x": null,
      "overflow_y": null,
      "padding": null,
      "right": null,
      "top": null,
      "visibility": null,
      "width": null
     }
    },
    "f60a120c0bea4df0af976f5d97d5d865": {
     "model_module": "@jupyter-widgets/base",
     "model_name": "LayoutModel",
     "model_module_version": "1.2.0",
     "state": {
      "_model_module": "@jupyter-widgets/base",
      "_model_module_version": "1.2.0",
      "_model_name": "LayoutModel",
      "_view_count": null,
      "_view_module": "@jupyter-widgets/base",
      "_view_module_version": "1.2.0",
      "_view_name": "LayoutView",
      "align_content": null,
      "align_items": null,
      "align_self": null,
      "border": null,
      "bottom": null,
      "display": null,
      "flex": null,
      "flex_flow": null,
      "grid_area": null,
      "grid_auto_columns": null,
      "grid_auto_flow": null,
      "grid_auto_rows": null,
      "grid_column": null,
      "grid_gap": null,
      "grid_row": null,
      "grid_template_areas": null,
      "grid_template_columns": null,
      "grid_template_rows": null,
      "height": null,
      "justify_content": null,
      "justify_items": null,
      "left": null,
      "margin": null,
      "max_height": null,
      "max_width": null,
      "min_height": null,
      "min_width": null,
      "object_fit": null,
      "object_position": null,
      "order": null,
      "overflow": null,
      "overflow_x": null,
      "overflow_y": null,
      "padding": null,
      "right": null,
      "top": null,
      "visibility": null,
      "width": null
     }
    },
    "ed7a6e67d632429e89b8f7486319c271": {
     "model_module": "@jupyter-widgets/controls",
     "model_name": "DescriptionStyleModel",
     "model_module_version": "1.5.0",
     "state": {
      "_model_module": "@jupyter-widgets/controls",
      "_model_module_version": "1.5.0",
      "_model_name": "DescriptionStyleModel",
      "_view_count": null,
      "_view_module": "@jupyter-widgets/base",
      "_view_module_version": "1.2.0",
      "_view_name": "StyleView",
      "description_width": ""
     }
    },
    "0a1450165571475a9da41899833288eb": {
     "model_module": "@jupyter-widgets/base",
     "model_name": "LayoutModel",
     "model_module_version": "1.2.0",
     "state": {
      "_model_module": "@jupyter-widgets/base",
      "_model_module_version": "1.2.0",
      "_model_name": "LayoutModel",
      "_view_count": null,
      "_view_module": "@jupyter-widgets/base",
      "_view_module_version": "1.2.0",
      "_view_name": "LayoutView",
      "align_content": null,
      "align_items": null,
      "align_self": null,
      "border": null,
      "bottom": null,
      "display": null,
      "flex": null,
      "flex_flow": null,
      "grid_area": null,
      "grid_auto_columns": null,
      "grid_auto_flow": null,
      "grid_auto_rows": null,
      "grid_column": null,
      "grid_gap": null,
      "grid_row": null,
      "grid_template_areas": null,
      "grid_template_columns": null,
      "grid_template_rows": null,
      "height": null,
      "justify_content": null,
      "justify_items": null,
      "left": null,
      "margin": null,
      "max_height": null,
      "max_width": null,
      "min_height": null,
      "min_width": null,
      "object_fit": null,
      "object_position": null,
      "order": null,
      "overflow": null,
      "overflow_x": null,
      "overflow_y": null,
      "padding": null,
      "right": null,
      "top": null,
      "visibility": null,
      "width": null
     }
    },
    "a661051372094734ae889a6fee426ff0": {
     "model_module": "@jupyter-widgets/controls",
     "model_name": "ProgressStyleModel",
     "model_module_version": "1.5.0",
     "state": {
      "_model_module": "@jupyter-widgets/controls",
      "_model_module_version": "1.5.0",
      "_model_name": "ProgressStyleModel",
      "_view_count": null,
      "_view_module": "@jupyter-widgets/base",
      "_view_module_version": "1.2.0",
      "_view_name": "StyleView",
      "bar_color": null,
      "description_width": ""
     }
    },
    "a5725bfd54484565ba3b1b785e00bccd": {
     "model_module": "@jupyter-widgets/base",
     "model_name": "LayoutModel",
     "model_module_version": "1.2.0",
     "state": {
      "_model_module": "@jupyter-widgets/base",
      "_model_module_version": "1.2.0",
      "_model_name": "LayoutModel",
      "_view_count": null,
      "_view_module": "@jupyter-widgets/base",
      "_view_module_version": "1.2.0",
      "_view_name": "LayoutView",
      "align_content": null,
      "align_items": null,
      "align_self": null,
      "border": null,
      "bottom": null,
      "display": null,
      "flex": null,
      "flex_flow": null,
      "grid_area": null,
      "grid_auto_columns": null,
      "grid_auto_flow": null,
      "grid_auto_rows": null,
      "grid_column": null,
      "grid_gap": null,
      "grid_row": null,
      "grid_template_areas": null,
      "grid_template_columns": null,
      "grid_template_rows": null,
      "height": null,
      "justify_content": null,
      "justify_items": null,
      "left": null,
      "margin": null,
      "max_height": null,
      "max_width": null,
      "min_height": null,
      "min_width": null,
      "object_fit": null,
      "object_position": null,
      "order": null,
      "overflow": null,
      "overflow_x": null,
      "overflow_y": null,
      "padding": null,
      "right": null,
      "top": null,
      "visibility": null,
      "width": null
     }
    },
    "67d7dbeaadc845b2856f2a9d039e738d": {
     "model_module": "@jupyter-widgets/controls",
     "model_name": "DescriptionStyleModel",
     "model_module_version": "1.5.0",
     "state": {
      "_model_module": "@jupyter-widgets/controls",
      "_model_module_version": "1.5.0",
      "_model_name": "DescriptionStyleModel",
      "_view_count": null,
      "_view_module": "@jupyter-widgets/base",
      "_view_module_version": "1.2.0",
      "_view_name": "StyleView",
      "description_width": ""
     }
    }
   }
  },
  "kaggle": {
   "accelerator": "none",
   "dataSources": [
    {
     "sourceId": 8143029,
     "sourceType": "datasetVersion",
     "datasetId": 4814757
    }
   ],
   "dockerImageVersionId": 30683,
   "isInternetEnabled": true,
   "language": "python",
   "sourceType": "notebook",
   "isGpuEnabled": false
  }
 },
 "nbformat_minor": 4,
 "nbformat": 4,
 "cells": [
  {
   "cell_type": "code",
   "source": [
    "import torch\n",
    "import torch.nn as nn\n",
    "import torch.optim as optim\n",
    "from torch.utils.data import DataLoader, Dataset\n",
    "import numpy as np\n",
    "from gensim.models import KeyedVectors\n",
    "from sklearn.model_selection import train_test_split\n",
    "import pandas as pd\n",
    "\n",
    "# 加载数据\n",
    "file_path = '/kaggle/input/text-classificatiopn/news.csv'\n",
    "data = pd.read_csv(file_path)\n",
    "\n",
    "# 显示数据的前几行\n",
    "data.head()\n"
   ],
   "metadata": {
    "colab": {
     "base_uri": "https://localhost:8080/",
     "height": 206
    },
    "id": "WG2CWGYswYjf",
    "executionInfo": {
     "status": "ok",
     "timestamp": 1713336134730,
     "user_tz": -480,
     "elapsed": 7037,
     "user": {
      "displayName": "andy shen",
      "userId": "14092356806547664356"
     }
    },
    "outputId": "57d28996-7c7d-4d3e-a539-1859c4e825e1",
    "execution": {
     "iopub.status.busy": "2024-04-17T07:35:06.140916Z",
     "iopub.execute_input": "2024-04-17T07:35:06.141822Z",
     "iopub.status.idle": "2024-04-17T07:35:06.204440Z",
     "shell.execute_reply.started": "2024-04-17T07:35:06.141764Z",
     "shell.execute_reply": "2024-04-17T07:35:06.203375Z"
    },
    "trusted": true
   },
   "execution_count": 58,
   "outputs": [
    {
     "execution_count": 58,
     "output_type": "execute_result",
     "data": {
      "text/plain": "  label                                               text\n0    教育  澳移民子女成长记：带着中国心融入主流社会新华网悉尼5月31日电 无论哪个国家的父辈与子女间都...\n1    体育  快船vs火箭首发：休城旨在练兵 小德帕特森进先发新浪体育讯北京时间4月10日消息，在常规赛还...\n2    科技  3英寸屏高清闪存DV 三洋TH1特价1499         作者：中关村在线 飘雪    ...\n3    时尚  贝嫂乏味归乏味 还有人买账Victoria Beckham 乏味归乏味 还有人买账大姐大的阵...\n4    房产  三亚岭南赶房集 金九银十再兴购房游纯粹的旅行闲适有余却“收获”不足，设计一条可以兼容曼妙风景...",
      "text/html": "<div>\n<style scoped>\n    .dataframe tbody tr th:only-of-type {\n        vertical-align: middle;\n    }\n\n    .dataframe tbody tr th {\n        vertical-align: top;\n    }\n\n    .dataframe thead th {\n        text-align: right;\n    }\n</style>\n<table border=\"1\" class=\"dataframe\">\n  <thead>\n    <tr style=\"text-align: right;\">\n      <th></th>\n      <th>label</th>\n      <th>text</th>\n    </tr>\n  </thead>\n  <tbody>\n    <tr>\n      <th>0</th>\n      <td>教育</td>\n      <td>澳移民子女成长记：带着中国心融入主流社会新华网悉尼5月31日电 无论哪个国家的父辈与子女间都...</td>\n    </tr>\n    <tr>\n      <th>1</th>\n      <td>体育</td>\n      <td>快船vs火箭首发：休城旨在练兵 小德帕特森进先发新浪体育讯北京时间4月10日消息，在常规赛还...</td>\n    </tr>\n    <tr>\n      <th>2</th>\n      <td>科技</td>\n      <td>3英寸屏高清闪存DV 三洋TH1特价1499         作者：中关村在线 飘雪    ...</td>\n    </tr>\n    <tr>\n      <th>3</th>\n      <td>时尚</td>\n      <td>贝嫂乏味归乏味 还有人买账Victoria Beckham 乏味归乏味 还有人买账大姐大的阵...</td>\n    </tr>\n    <tr>\n      <th>4</th>\n      <td>房产</td>\n      <td>三亚岭南赶房集 金九银十再兴购房游纯粹的旅行闲适有余却“收获”不足，设计一条可以兼容曼妙风景...</td>\n    </tr>\n  </tbody>\n</table>\n</div>"
     },
     "metadata": {}
    }
   ]
  },
  {
   "cell_type": "code",
   "source": [
    "# 使用LabelEncoder将标签转换为数值形式\n",
    "label_encoder = LabelEncoder()\n",
    "data[\"label_num\"] = label_encoder.fit_transform(data[\"label\"])"
   ],
   "metadata": {
    "execution": {
     "iopub.status.busy": "2024-04-17T07:37:09.485806Z",
     "iopub.execute_input": "2024-04-17T07:37:09.486199Z",
     "iopub.status.idle": "2024-04-17T07:37:09.492673Z",
     "shell.execute_reply.started": "2024-04-17T07:37:09.486170Z",
     "shell.execute_reply": "2024-04-17T07:37:09.491645Z"
    },
    "trusted": true
   },
   "execution_count": 62,
   "outputs": []
  },
  {
   "cell_type": "code",
   "source": [
    "# 获取标签和数值之间的对应关系\n",
    "label_mapping = dict(zip(data[\"label\"], data[\"label_num\"]))\n",
    "\n",
    "print(\"标签到数值的映射:\", label_mapping)"
   ],
   "metadata": {
    "execution": {
     "iopub.status.busy": "2024-04-17T07:37:17.905365Z",
     "iopub.execute_input": "2024-04-17T07:37:17.906224Z",
     "iopub.status.idle": "2024-04-17T07:37:17.911826Z",
     "shell.execute_reply.started": "2024-04-17T07:37:17.906190Z",
     "shell.execute_reply": "2024-04-17T07:37:17.910748Z"
    },
    "trusted": true
   },
   "execution_count": 63,
   "outputs": [
    {
     "name": "stdout",
     "text": "标签到数值的映射: {'教育': 4, '体育': 0, '科技': 8, '时尚': 5, '房产': 3, '家居': 2, '财经': 9, '时政': 6, '娱乐': 1, '游戏': 7}\n",
     "output_type": "stream"
    }
   ]
  },
  {
   "cell_type": "code",
   "source": [
    "from sklearn.preprocessing import LabelEncoder\n",
    "\n",
    "# 将标签转换为数值形式\n",
    "label_encoder = LabelEncoder()\n",
    "data[\"label\"] = label_encoder.fit_transform(data[\"label\"])"
   ],
   "metadata": {
    "id": "F_pjoHbU1O3h",
    "executionInfo": {
     "status": "ok",
     "timestamp": 1713336138247,
     "user_tz": -480,
     "elapsed": 539,
     "user": {
      "displayName": "andy shen",
      "userId": "14092356806547664356"
     }
    },
    "execution": {
     "iopub.status.busy": "2024-04-17T07:06:39.962364Z",
     "iopub.execute_input": "2024-04-17T07:06:39.963194Z",
     "iopub.status.idle": "2024-04-17T07:06:39.969816Z",
     "shell.execute_reply.started": "2024-04-17T07:06:39.963161Z",
     "shell.execute_reply": "2024-04-17T07:06:39.968910Z"
    },
    "trusted": true
   },
   "execution_count": 3,
   "outputs": []
  },
  {
   "cell_type": "code",
   "source": [
    "!pip install datasets"
   ],
   "metadata": {
    "colab": {
     "base_uri": "https://localhost:8080/"
    },
    "id": "oEWlK4_0xAG5",
    "executionInfo": {
     "status": "ok",
     "timestamp": 1713335732094,
     "user_tz": -480,
     "elapsed": 11049,
     "user": {
      "displayName": "andy shen",
      "userId": "14092356806547664356"
     }
    },
    "outputId": "2ae2c733-10b3-437b-aa8a-9759df37e808"
   },
   "execution_count": 6,
   "outputs": [
    {
     "output_type": "stream",
     "name": "stdout",
     "text": "Collecting datasets\n\n  Downloading datasets-2.18.0-py3-none-any.whl (510 kB)\n\n\u001B[2K     \u001B[90m━━━━━━━━━━━━━━━━━━━━━━━━━━━━━━━━━━━━━━━━\u001B[0m \u001B[32m510.5/510.5 kB\u001B[0m \u001B[31m7.6 MB/s\u001B[0m eta \u001B[36m0:00:00\u001B[0m\n\n\u001B[?25hRequirement already satisfied: filelock in /usr/local/lib/python3.10/dist-packages (from datasets) (3.13.4)\n\nRequirement already satisfied: numpy>=1.17 in /usr/local/lib/python3.10/dist-packages (from datasets) (1.25.2)\n\nRequirement already satisfied: pyarrow>=12.0.0 in /usr/local/lib/python3.10/dist-packages (from datasets) (14.0.2)\n\nRequirement already satisfied: pyarrow-hotfix in /usr/local/lib/python3.10/dist-packages (from datasets) (0.6)\n\nCollecting dill<0.3.9,>=0.3.0 (from datasets)\n\n  Downloading dill-0.3.8-py3-none-any.whl (116 kB)\n\n\u001B[2K     \u001B[90m━━━━━━━━━━━━━━━━━━━━━━━━━━━━━━━━━━━━━━━━\u001B[0m \u001B[32m116.3/116.3 kB\u001B[0m \u001B[31m13.1 MB/s\u001B[0m eta \u001B[36m0:00:00\u001B[0m\n\n\u001B[?25hRequirement already satisfied: pandas in /usr/local/lib/python3.10/dist-packages (from datasets) (2.0.3)\n\nRequirement already satisfied: requests>=2.19.0 in /usr/local/lib/python3.10/dist-packages (from datasets) (2.31.0)\n\nRequirement already satisfied: tqdm>=4.62.1 in /usr/local/lib/python3.10/dist-packages (from datasets) (4.66.2)\n\nCollecting xxhash (from datasets)\n\n  Downloading xxhash-3.4.1-cp310-cp310-manylinux_2_17_x86_64.manylinux2014_x86_64.whl (194 kB)\n\n\u001B[2K     \u001B[90m━━━━━━━━━━━━━━━━━━━━━━━━━━━━━━━━━━━━━━━━\u001B[0m \u001B[32m194.1/194.1 kB\u001B[0m \u001B[31m21.8 MB/s\u001B[0m eta \u001B[36m0:00:00\u001B[0m\n\n\u001B[?25hCollecting multiprocess (from datasets)\n\n  Downloading multiprocess-0.70.16-py310-none-any.whl (134 kB)\n\n\u001B[2K     \u001B[90m━━━━━━━━━━━━━━━━━━━━━━━━━━━━━━━━━━━━━━━━\u001B[0m \u001B[32m134.8/134.8 kB\u001B[0m \u001B[31m16.7 MB/s\u001B[0m eta \u001B[36m0:00:00\u001B[0m\n\n\u001B[?25hRequirement already satisfied: fsspec[http]<=2024.2.0,>=2023.1.0 in /usr/local/lib/python3.10/dist-packages (from datasets) (2023.6.0)\n\nRequirement already satisfied: aiohttp in /usr/local/lib/python3.10/dist-packages (from datasets) (3.9.3)\n\nRequirement already satisfied: huggingface-hub>=0.19.4 in /usr/local/lib/python3.10/dist-packages (from datasets) (0.20.3)\n\nRequirement already satisfied: packaging in /usr/local/lib/python3.10/dist-packages (from datasets) (24.0)\n\nRequirement already satisfied: pyyaml>=5.1 in /usr/local/lib/python3.10/dist-packages (from datasets) (6.0.1)\n\nRequirement already satisfied: aiosignal>=1.1.2 in /usr/local/lib/python3.10/dist-packages (from aiohttp->datasets) (1.3.1)\n\nRequirement already satisfied: attrs>=17.3.0 in /usr/local/lib/python3.10/dist-packages (from aiohttp->datasets) (23.2.0)\n\nRequirement already satisfied: frozenlist>=1.1.1 in /usr/local/lib/python3.10/dist-packages (from aiohttp->datasets) (1.4.1)\n\nRequirement already satisfied: multidict<7.0,>=4.5 in /usr/local/lib/python3.10/dist-packages (from aiohttp->datasets) (6.0.5)\n\nRequirement already satisfied: yarl<2.0,>=1.0 in /usr/local/lib/python3.10/dist-packages (from aiohttp->datasets) (1.9.4)\n\nRequirement already satisfied: async-timeout<5.0,>=4.0 in /usr/local/lib/python3.10/dist-packages (from aiohttp->datasets) (4.0.3)\n\nRequirement already satisfied: typing-extensions>=3.7.4.3 in /usr/local/lib/python3.10/dist-packages (from huggingface-hub>=0.19.4->datasets) (4.11.0)\n\nRequirement already satisfied: charset-normalizer<4,>=2 in /usr/local/lib/python3.10/dist-packages (from requests>=2.19.0->datasets) (3.3.2)\n\nRequirement already satisfied: idna<4,>=2.5 in /usr/local/lib/python3.10/dist-packages (from requests>=2.19.0->datasets) (3.6)\n\nRequirement already satisfied: urllib3<3,>=1.21.1 in /usr/local/lib/python3.10/dist-packages (from requests>=2.19.0->datasets) (2.0.7)\n\nRequirement already satisfied: certifi>=2017.4.17 in /usr/local/lib/python3.10/dist-packages (from requests>=2.19.0->datasets) (2024.2.2)\n\nRequirement already satisfied: python-dateutil>=2.8.2 in /usr/local/lib/python3.10/dist-packages (from pandas->datasets) (2.8.2)\n\nRequirement already satisfied: pytz>=2020.1 in /usr/local/lib/python3.10/dist-packages (from pandas->datasets) (2023.4)\n\nRequirement already satisfied: tzdata>=2022.1 in /usr/local/lib/python3.10/dist-packages (from pandas->datasets) (2024.1)\n\nRequirement already satisfied: six>=1.5 in /usr/local/lib/python3.10/dist-packages (from python-dateutil>=2.8.2->pandas->datasets) (1.16.0)\n\nInstalling collected packages: xxhash, dill, multiprocess, datasets\n\nSuccessfully installed datasets-2.18.0 dill-0.3.8 multiprocess-0.70.16 xxhash-3.4.1\n"
    }
   ]
  },
  {
   "cell_type": "code",
   "source": [
    "from transformers import AutoTokenizer, AutoModelForSequenceClassification, Trainer, TrainingArguments\n",
    "from datasets import load_dataset"
   ],
   "metadata": {
    "id": "X-krfbYdwtbt",
    "executionInfo": {
     "status": "ok",
     "timestamp": 1713336156087,
     "user_tz": -480,
     "elapsed": 13883,
     "user": {
      "displayName": "andy shen",
      "userId": "14092356806547664356"
     }
    },
    "execution": {
     "iopub.status.busy": "2024-04-17T07:06:44.461096Z",
     "iopub.execute_input": "2024-04-17T07:06:44.461445Z",
     "iopub.status.idle": "2024-04-17T07:06:57.233285Z",
     "shell.execute_reply.started": "2024-04-17T07:06:44.461417Z",
     "shell.execute_reply": "2024-04-17T07:06:57.232440Z"
    },
    "trusted": true
   },
   "execution_count": 4,
   "outputs": [
    {
     "name": "stderr",
     "text": "2024-04-17 07:06:48.796490: E external/local_xla/xla/stream_executor/cuda/cuda_dnn.cc:9261] Unable to register cuDNN factory: Attempting to register factory for plugin cuDNN when one has already been registered\n2024-04-17 07:06:48.796627: E external/local_xla/xla/stream_executor/cuda/cuda_fft.cc:607] Unable to register cuFFT factory: Attempting to register factory for plugin cuFFT when one has already been registered\n2024-04-17 07:06:48.931877: E external/local_xla/xla/stream_executor/cuda/cuda_blas.cc:1515] Unable to register cuBLAS factory: Attempting to register factory for plugin cuBLAS when one has already been registered\n",
     "output_type": "stream"
    }
   ]
  },
  {
   "cell_type": "code",
   "source": [
    "dataset = load_dataset(\"csv\", data_files=\"/content/drive/MyDrive/data/news.csv\", split=\"train\")\n",
    "dataset"
   ],
   "metadata": {
    "colab": {
     "base_uri": "https://localhost:8080/"
    },
    "id": "yzXZzMKLxVU1",
    "executionInfo": {
     "status": "ok",
     "timestamp": 1713336159915,
     "user_tz": -480,
     "elapsed": 3831,
     "user": {
      "displayName": "andy shen",
      "userId": "14092356806547664356"
     }
    },
    "outputId": "e8e03d13-a8ad-439e-e715-2b466b6e3586"
   },
   "execution_count": 4,
   "outputs": [
    {
     "output_type": "execute_result",
     "execution_count": 4,
     "data": {
      "text/plain": [
       "Dataset({\n",
       "    features: ['label', 'text'],\n",
       "    num_rows: 1000\n",
       "})"
      ]
     },
     "metadata": {}
    }
   ]
  },
  {
   "cell_type": "code",
   "source": [
    "from datasets import Dataset\n",
    "\n",
    "dataset = Dataset.from_pandas(data)\n",
    "dataset"
   ],
   "metadata": {
    "colab": {
     "base_uri": "https://localhost:8080/"
    },
    "id": "uyMAOG4RxgIh",
    "executionInfo": {
     "status": "ok",
     "timestamp": 1713336160808,
     "user_tz": -480,
     "elapsed": 896,
     "user": {
      "displayName": "andy shen",
      "userId": "14092356806547664356"
     }
    },
    "outputId": "b91ae255-2750-4683-eecb-ce2287a04f79",
    "execution": {
     "iopub.status.busy": "2024-04-17T07:07:10.228568Z",
     "iopub.execute_input": "2024-04-17T07:07:10.229878Z",
     "iopub.status.idle": "2024-04-17T07:07:10.278012Z",
     "shell.execute_reply.started": "2024-04-17T07:07:10.229841Z",
     "shell.execute_reply": "2024-04-17T07:07:10.277124Z"
    },
    "trusted": true
   },
   "execution_count": 5,
   "outputs": [
    {
     "execution_count": 5,
     "output_type": "execute_result",
     "data": {
      "text/plain": "Dataset({\n    features: ['label', 'text'],\n    num_rows: 1000\n})"
     },
     "metadata": {}
    }
   ]
  },
  {
   "cell_type": "code",
   "source": [
    "dataset = dataset.filter(lambda x: x[\"text\"] is not None)\n",
    "dataset"
   ],
   "metadata": {
    "colab": {
     "base_uri": "https://localhost:8080/",
     "height": 120,
     "referenced_widgets": [
      "3416fe7cbaa84edfa41ffa1153446f4d",
      "bb905fe41012460791acbae6b2e62b54",
      "22b683076c194c97afb04e6d58a49bc6",
      "7438089341eb4f778c6944b8a5fb981e",
      "3b4ecd8a01534f7eaaf88b9ad3394ab6",
      "8e6260458b394e27ad1d7b15f9a2ca70",
      "76b683ef96354f129e0d6dc8139a708c",
      "1698127dba844948bef02b7a52df53d8",
      "bbb373a7513e4cb38f9125271ffb247f",
      "50e972df1bb54407a870846df7fae853",
      "d6523dd8d52b474cb1ad269efbe412d4"
     ]
    },
    "id": "zlcgeykOxpkb",
    "executionInfo": {
     "status": "ok",
     "timestamp": 1713336160808,
     "user_tz": -480,
     "elapsed": 10,
     "user": {
      "displayName": "andy shen",
      "userId": "14092356806547664356"
     }
    },
    "outputId": "be91aa96-f5d0-42f2-ca17-f24aa9af5de8",
    "execution": {
     "iopub.status.busy": "2024-04-17T07:07:14.451928Z",
     "iopub.execute_input": "2024-04-17T07:07:14.452775Z",
     "iopub.status.idle": "2024-04-17T07:07:14.510823Z",
     "shell.execute_reply.started": "2024-04-17T07:07:14.452739Z",
     "shell.execute_reply": "2024-04-17T07:07:14.509954Z"
    },
    "trusted": true
   },
   "execution_count": 6,
   "outputs": [
    {
     "output_type": "display_data",
     "data": {
      "text/plain": "Filter:   0%|          | 0/1000 [00:00<?, ? examples/s]",
      "application/vnd.jupyter.widget-view+json": {
       "version_major": 2,
       "version_minor": 0,
       "model_id": "e602c9b15c2c4ff69e0ec4f3ede80fcb"
      }
     },
     "metadata": {}
    },
    {
     "execution_count": 6,
     "output_type": "execute_result",
     "data": {
      "text/plain": "Dataset({\n    features: ['label', 'text'],\n    num_rows: 1000\n})"
     },
     "metadata": {}
    }
   ]
  },
  {
   "cell_type": "code",
   "source": [
    "datasets = dataset.train_test_split(test_size=0.2)\n",
    "datasets"
   ],
   "metadata": {
    "colab": {
     "base_uri": "https://localhost:8080/"
    },
    "id": "zj2kbQzgyO_E",
    "executionInfo": {
     "status": "ok",
     "timestamp": 1713336161318,
     "user_tz": -480,
     "elapsed": 516,
     "user": {
      "displayName": "andy shen",
      "userId": "14092356806547664356"
     }
    },
    "outputId": "f495ee3f-4040-4cab-b122-c5c8eb9fc94a",
    "execution": {
     "iopub.status.busy": "2024-04-17T07:07:17.892982Z",
     "iopub.execute_input": "2024-04-17T07:07:17.893893Z",
     "iopub.status.idle": "2024-04-17T07:07:17.908649Z",
     "shell.execute_reply.started": "2024-04-17T07:07:17.893860Z",
     "shell.execute_reply": "2024-04-17T07:07:17.907762Z"
    },
    "trusted": true
   },
   "execution_count": 7,
   "outputs": [
    {
     "execution_count": 7,
     "output_type": "execute_result",
     "data": {
      "text/plain": "DatasetDict({\n    train: Dataset({\n        features: ['label', 'text'],\n        num_rows: 800\n    })\n    test: Dataset({\n        features: ['label', 'text'],\n        num_rows: 200\n    })\n})"
     },
     "metadata": {}
    }
   ]
  },
  {
   "cell_type": "code",
   "source": [
    "import torch\n",
    "\n",
    "tokenizer = AutoTokenizer.from_pretrained(\"bert-base-chinese\")\n"
   ],
   "metadata": {
    "colab": {
     "base_uri": "https://localhost:8080/"
    },
    "id": "eLefPr5oyT-C",
    "executionInfo": {
     "status": "ok",
     "timestamp": 1713336163640,
     "user_tz": -480,
     "elapsed": 2326,
     "user": {
      "displayName": "andy shen",
      "userId": "14092356806547664356"
     }
    },
    "outputId": "371585c0-05e2-48d2-987d-91a0f3ebcc46",
    "execution": {
     "iopub.status.busy": "2024-04-17T07:07:21.676547Z",
     "iopub.execute_input": "2024-04-17T07:07:21.676892Z",
     "iopub.status.idle": "2024-04-17T07:07:23.137400Z",
     "shell.execute_reply.started": "2024-04-17T07:07:21.676865Z",
     "shell.execute_reply": "2024-04-17T07:07:23.136600Z"
    },
    "trusted": true
   },
   "execution_count": 8,
   "outputs": [
    {
     "output_type": "display_data",
     "data": {
      "text/plain": "tokenizer_config.json:   0%|          | 0.00/49.0 [00:00<?, ?B/s]",
      "application/vnd.jupyter.widget-view+json": {
       "version_major": 2,
       "version_minor": 0,
       "model_id": "8bc22ee3021c4e44bdc86fa5be25246e"
      }
     },
     "metadata": {}
    },
    {
     "output_type": "display_data",
     "data": {
      "text/plain": "config.json:   0%|          | 0.00/624 [00:00<?, ?B/s]",
      "application/vnd.jupyter.widget-view+json": {
       "version_major": 2,
       "version_minor": 0,
       "model_id": "9085888f2d2b42b19c8ba96e20c61b15"
      }
     },
     "metadata": {}
    },
    {
     "output_type": "display_data",
     "data": {
      "text/plain": "vocab.txt:   0%|          | 0.00/110k [00:00<?, ?B/s]",
      "application/vnd.jupyter.widget-view+json": {
       "version_major": 2,
       "version_minor": 0,
       "model_id": "4cd86045e5dd4648af85cc3561145952"
      }
     },
     "metadata": {}
    },
    {
     "output_type": "display_data",
     "data": {
      "text/plain": "tokenizer.json:   0%|          | 0.00/269k [00:00<?, ?B/s]",
      "application/vnd.jupyter.widget-view+json": {
       "version_major": 2,
       "version_minor": 0,
       "model_id": "32be7d7340ac4252afe5f66de16893a3"
      }
     },
     "metadata": {}
    }
   ]
  },
  {
   "cell_type": "code",
   "source": [
    "\n",
    "def process_function(examples):\n",
    "    tokenized_examples = tokenizer(examples[\"text\"], max_length=128, truncation=True)\n",
    "    tokenized_examples[\"labels\"] = examples[\"label\"]\n",
    "    return tokenized_examples\n",
    "\n",
    "tokenized_datasets = datasets.map(process_function, batched=True, remove_columns=datasets[\"train\"].column_names)\n",
    "tokenized_datasets"
   ],
   "metadata": {
    "colab": {
     "base_uri": "https://localhost:8080/",
     "height": 260,
     "referenced_widgets": [
      "f5ebeb6410774a37bd944fcbd5133340",
      "eb556bb7152945b0999b00dc370f8b25",
      "3cce2bcdf841494f9c162075535919d8",
      "3ceccf0093754db4a5125ea3bbe5a734",
      "863a96d705794567959dc753f02b4527",
      "fdc71d5144b94ebc81b6488de37ee496",
      "3d854c88d8fe467a8baa2b03e27b4f4f",
      "469283e4b8c04bf9855fc3bfa45d24db",
      "fb57af09e4ba4854a0af95a23badc9a2",
      "7e18207e063f4970828888aa9e2e33f6",
      "4380f65859b04d76a37e6573445c50f0",
      "143f8c00edef4a3c98ad73056b9ce5d7",
      "7c1521d7e3d043698bf39521f12cf23f",
      "c0d12876ed13463981635f56a7cd90a1",
      "b797977efdb14ba3b8d91ccc782f9cab",
      "869edde2f4e341f098d2a63d288114e1",
      "f60a120c0bea4df0af976f5d97d5d865",
      "ed7a6e67d632429e89b8f7486319c271",
      "0a1450165571475a9da41899833288eb",
      "a661051372094734ae889a6fee426ff0",
      "a5725bfd54484565ba3b1b785e00bccd",
      "67d7dbeaadc845b2856f2a9d039e738d"
     ]
    },
    "id": "1TuZyAZQyhb4",
    "executionInfo": {
     "status": "ok",
     "timestamp": 1713336167852,
     "user_tz": -480,
     "elapsed": 4220,
     "user": {
      "displayName": "andy shen",
      "userId": "14092356806547664356"
     }
    },
    "outputId": "fafd8e1a-b6c5-453c-8221-48e3829eb7ee",
    "execution": {
     "iopub.status.busy": "2024-04-17T07:07:25.717682Z",
     "iopub.execute_input": "2024-04-17T07:07:25.718098Z",
     "iopub.status.idle": "2024-04-17T07:07:26.713444Z",
     "shell.execute_reply.started": "2024-04-17T07:07:25.718044Z",
     "shell.execute_reply": "2024-04-17T07:07:26.712589Z"
    },
    "trusted": true
   },
   "execution_count": 9,
   "outputs": [
    {
     "output_type": "display_data",
     "data": {
      "text/plain": "Map:   0%|          | 0/800 [00:00<?, ? examples/s]",
      "application/vnd.jupyter.widget-view+json": {
       "version_major": 2,
       "version_minor": 0,
       "model_id": "49864fbe9ed6403a96dbd499a24f88d4"
      }
     },
     "metadata": {}
    },
    {
     "output_type": "display_data",
     "data": {
      "text/plain": "Map:   0%|          | 0/200 [00:00<?, ? examples/s]",
      "application/vnd.jupyter.widget-view+json": {
       "version_major": 2,
       "version_minor": 0,
       "model_id": "ead4752732c94a1a9903f336754df471"
      }
     },
     "metadata": {}
    },
    {
     "execution_count": 9,
     "output_type": "execute_result",
     "data": {
      "text/plain": "DatasetDict({\n    train: Dataset({\n        features: ['input_ids', 'token_type_ids', 'attention_mask', 'labels'],\n        num_rows: 800\n    })\n    test: Dataset({\n        features: ['input_ids', 'token_type_ids', 'attention_mask', 'labels'],\n        num_rows: 200\n    })\n})"
     },
     "metadata": {}
    }
   ]
  },
  {
   "cell_type": "code",
   "source": [
    "model = AutoModelForSequenceClassification.from_pretrained(\"bert-base-chinese\", num_labels=10)"
   ],
   "metadata": {
    "colab": {
     "base_uri": "https://localhost:8080/"
    },
    "id": "naqqTIgLzPSW",
    "executionInfo": {
     "status": "ok",
     "timestamp": 1713336172154,
     "user_tz": -480,
     "elapsed": 4305,
     "user": {
      "displayName": "andy shen",
      "userId": "14092356806547664356"
     }
    },
    "outputId": "620ec22b-0d34-4d1c-edb8-bdec1f160734",
    "execution": {
     "iopub.status.busy": "2024-04-17T07:07:29.736200Z",
     "iopub.execute_input": "2024-04-17T07:07:29.736886Z",
     "iopub.status.idle": "2024-04-17T07:07:32.201827Z",
     "shell.execute_reply.started": "2024-04-17T07:07:29.736852Z",
     "shell.execute_reply": "2024-04-17T07:07:32.201081Z"
    },
    "trusted": true
   },
   "execution_count": 10,
   "outputs": [
    {
     "output_type": "display_data",
     "data": {
      "text/plain": "model.safetensors:   0%|          | 0.00/412M [00:00<?, ?B/s]",
      "application/vnd.jupyter.widget-view+json": {
       "version_major": 2,
       "version_minor": 0,
       "model_id": "63d3d30eff3b49938f1a643de0b4c218"
      }
     },
     "metadata": {}
    },
    {
     "name": "stderr",
     "text": "Some weights of BertForSequenceClassification were not initialized from the model checkpoint at bert-base-chinese and are newly initialized: ['classifier.bias', 'classifier.weight']\nYou should probably TRAIN this model on a down-stream task to be able to use it for predictions and inference.\n",
     "output_type": "stream"
    }
   ]
  },
  {
   "cell_type": "code",
   "source": [
    "model.config"
   ],
   "metadata": {
    "colab": {
     "base_uri": "https://localhost:8080/"
    },
    "id": "rPlNcX_-zXfH",
    "executionInfo": {
     "status": "ok",
     "timestamp": 1712565406144,
     "user_tz": -480,
     "elapsed": 439,
     "user": {
      "displayName": "andy shen",
      "userId": "14092356806547664356"
     }
    },
    "outputId": "1d0390c2-180e-461d-ed10-3b3ee9f28169"
   },
   "execution_count": null,
   "outputs": [
    {
     "output_type": "execute_result",
     "execution_count": 26,
     "data": {
      "text/plain": [
       "BertConfig {\n",
       "  \"_name_or_path\": \"bert-base-chinese\",\n",
       "  \"architectures\": [\n",
       "    \"BertForMaskedLM\"\n",
       "  ],\n",
       "  \"attention_probs_dropout_prob\": 0.1,\n",
       "  \"classifier_dropout\": null,\n",
       "  \"directionality\": \"bidi\",\n",
       "  \"hidden_act\": \"gelu\",\n",
       "  \"hidden_dropout_prob\": 0.1,\n",
       "  \"hidden_size\": 768,\n",
       "  \"id2label\": {\n",
       "    \"0\": \"LABEL_0\",\n",
       "    \"1\": \"LABEL_1\",\n",
       "    \"2\": \"LABEL_2\",\n",
       "    \"3\": \"LABEL_3\",\n",
       "    \"4\": \"LABEL_4\",\n",
       "    \"5\": \"LABEL_5\",\n",
       "    \"6\": \"LABEL_6\",\n",
       "    \"7\": \"LABEL_7\",\n",
       "    \"8\": \"LABEL_8\",\n",
       "    \"9\": \"LABEL_9\"\n",
       "  },\n",
       "  \"initializer_range\": 0.02,\n",
       "  \"intermediate_size\": 3072,\n",
       "  \"label2id\": {\n",
       "    \"LABEL_0\": 0,\n",
       "    \"LABEL_1\": 1,\n",
       "    \"LABEL_2\": 2,\n",
       "    \"LABEL_3\": 3,\n",
       "    \"LABEL_4\": 4,\n",
       "    \"LABEL_5\": 5,\n",
       "    \"LABEL_6\": 6,\n",
       "    \"LABEL_7\": 7,\n",
       "    \"LABEL_8\": 8,\n",
       "    \"LABEL_9\": 9\n",
       "  },\n",
       "  \"layer_norm_eps\": 1e-12,\n",
       "  \"max_position_embeddings\": 512,\n",
       "  \"model_type\": \"bert\",\n",
       "  \"num_attention_heads\": 12,\n",
       "  \"num_hidden_layers\": 12,\n",
       "  \"pad_token_id\": 0,\n",
       "  \"pooler_fc_size\": 768,\n",
       "  \"pooler_num_attention_heads\": 12,\n",
       "  \"pooler_num_fc_layers\": 3,\n",
       "  \"pooler_size_per_head\": 128,\n",
       "  \"pooler_type\": \"first_token_transform\",\n",
       "  \"position_embedding_type\": \"absolute\",\n",
       "  \"transformers_version\": \"4.38.2\",\n",
       "  \"type_vocab_size\": 2,\n",
       "  \"use_cache\": true,\n",
       "  \"vocab_size\": 21128\n",
       "}"
      ]
     },
     "metadata": {}
    }
   ]
  },
  {
   "cell_type": "code",
   "source": [
    "model.config.num_labels"
   ],
   "metadata": {
    "colab": {
     "base_uri": "https://localhost:8080/"
    },
    "id": "MajHHhC32dvj",
    "executionInfo": {
     "status": "ok",
     "timestamp": 1712565385241,
     "user_tz": -480,
     "elapsed": 4,
     "user": {
      "displayName": "andy shen",
      "userId": "14092356806547664356"
     }
    },
    "outputId": "77b0222d-ac8e-4086-e8aa-508ee8b33b10",
    "execution": {
     "iopub.status.busy": "2024-04-17T07:07:50.730193Z",
     "iopub.execute_input": "2024-04-17T07:07:50.730839Z",
     "iopub.status.idle": "2024-04-17T07:07:50.736468Z",
     "shell.execute_reply.started": "2024-04-17T07:07:50.730808Z",
     "shell.execute_reply": "2024-04-17T07:07:50.735495Z"
    },
    "trusted": true
   },
   "execution_count": 11,
   "outputs": [
    {
     "execution_count": 11,
     "output_type": "execute_result",
     "data": {
      "text/plain": "10"
     },
     "metadata": {}
    }
   ]
  },
  {
   "cell_type": "code",
   "source": [
    "!pip install evaluate\n"
   ],
   "metadata": {
    "colab": {
     "base_uri": "https://localhost:8080/"
    },
    "id": "mC2p6fiWzgMG",
    "executionInfo": {
     "status": "ok",
     "timestamp": 1713335789059,
     "user_tz": -480,
     "elapsed": 9096,
     "user": {
      "displayName": "andy shen",
      "userId": "14092356806547664356"
     }
    },
    "outputId": "ebbd3cbd-53d3-44f7-eec8-66f7b74b4f27",
    "execution": {
     "iopub.status.busy": "2024-04-17T07:08:00.067037Z",
     "iopub.execute_input": "2024-04-17T07:08:00.067398Z",
     "iopub.status.idle": "2024-04-17T07:08:13.975445Z",
     "shell.execute_reply.started": "2024-04-17T07:08:00.067372Z",
     "shell.execute_reply": "2024-04-17T07:08:13.974431Z"
    },
    "trusted": true
   },
   "execution_count": 13,
   "outputs": [
    {
     "name": "stderr",
     "text": "huggingface/tokenizers: The current process just got forked, after parallelism has already been used. Disabling parallelism to avoid deadlocks...\nTo disable this warning, you can either:\n\t- Avoid using `tokenizers` before the fork if possible\n\t- Explicitly set the environment variable TOKENIZERS_PARALLELISM=(true | false)\n",
     "output_type": "stream"
    },
    {
     "name": "stdout",
     "text": "Collecting evaluate\n  Downloading evaluate-0.4.1-py3-none-any.whl.metadata (9.4 kB)\nRequirement already satisfied: datasets>=2.0.0 in /opt/conda/lib/python3.10/site-packages (from evaluate) (2.18.0)\nRequirement already satisfied: numpy>=1.17 in /opt/conda/lib/python3.10/site-packages (from evaluate) (1.26.4)\nRequirement already satisfied: dill in /opt/conda/lib/python3.10/site-packages (from evaluate) (0.3.8)\nRequirement already satisfied: pandas in /opt/conda/lib/python3.10/site-packages (from evaluate) (2.1.4)\nRequirement already satisfied: requests>=2.19.0 in /opt/conda/lib/python3.10/site-packages (from evaluate) (2.31.0)\nRequirement already satisfied: tqdm>=4.62.1 in /opt/conda/lib/python3.10/site-packages (from evaluate) (4.66.1)\nRequirement already satisfied: xxhash in /opt/conda/lib/python3.10/site-packages (from evaluate) (3.4.1)\nRequirement already satisfied: multiprocess in /opt/conda/lib/python3.10/site-packages (from evaluate) (0.70.16)\nRequirement already satisfied: fsspec>=2021.05.0 in /opt/conda/lib/python3.10/site-packages (from fsspec[http]>=2021.05.0->evaluate) (2024.2.0)\nRequirement already satisfied: huggingface-hub>=0.7.0 in /opt/conda/lib/python3.10/site-packages (from evaluate) (0.22.2)\nRequirement already satisfied: packaging in /opt/conda/lib/python3.10/site-packages (from evaluate) (21.3)\nCollecting responses<0.19 (from evaluate)\n  Downloading responses-0.18.0-py3-none-any.whl.metadata (29 kB)\nRequirement already satisfied: filelock in /opt/conda/lib/python3.10/site-packages (from datasets>=2.0.0->evaluate) (3.13.1)\nRequirement already satisfied: pyarrow>=12.0.0 in /opt/conda/lib/python3.10/site-packages (from datasets>=2.0.0->evaluate) (15.0.2)\nRequirement already satisfied: pyarrow-hotfix in /opt/conda/lib/python3.10/site-packages (from datasets>=2.0.0->evaluate) (0.6)\nRequirement already satisfied: aiohttp in /opt/conda/lib/python3.10/site-packages (from datasets>=2.0.0->evaluate) (3.9.1)\nRequirement already satisfied: pyyaml>=5.1 in /opt/conda/lib/python3.10/site-packages (from datasets>=2.0.0->evaluate) (6.0.1)\nRequirement already satisfied: typing-extensions>=3.7.4.3 in /opt/conda/lib/python3.10/site-packages (from huggingface-hub>=0.7.0->evaluate) (4.9.0)\nRequirement already satisfied: pyparsing!=3.0.5,>=2.0.2 in /opt/conda/lib/python3.10/site-packages (from packaging->evaluate) (3.1.1)\nRequirement already satisfied: charset-normalizer<4,>=2 in /opt/conda/lib/python3.10/site-packages (from requests>=2.19.0->evaluate) (3.3.2)\nRequirement already satisfied: idna<4,>=2.5 in /opt/conda/lib/python3.10/site-packages (from requests>=2.19.0->evaluate) (3.6)\nRequirement already satisfied: urllib3<3,>=1.21.1 in /opt/conda/lib/python3.10/site-packages (from requests>=2.19.0->evaluate) (1.26.18)\nRequirement already satisfied: certifi>=2017.4.17 in /opt/conda/lib/python3.10/site-packages (from requests>=2.19.0->evaluate) (2024.2.2)\nRequirement already satisfied: python-dateutil>=2.8.2 in /opt/conda/lib/python3.10/site-packages (from pandas->evaluate) (2.9.0.post0)\nRequirement already satisfied: pytz>=2020.1 in /opt/conda/lib/python3.10/site-packages (from pandas->evaluate) (2023.3.post1)\nRequirement already satisfied: tzdata>=2022.1 in /opt/conda/lib/python3.10/site-packages (from pandas->evaluate) (2023.4)\nRequirement already satisfied: attrs>=17.3.0 in /opt/conda/lib/python3.10/site-packages (from aiohttp->datasets>=2.0.0->evaluate) (23.2.0)\nRequirement already satisfied: multidict<7.0,>=4.5 in /opt/conda/lib/python3.10/site-packages (from aiohttp->datasets>=2.0.0->evaluate) (6.0.4)\nRequirement already satisfied: yarl<2.0,>=1.0 in /opt/conda/lib/python3.10/site-packages (from aiohttp->datasets>=2.0.0->evaluate) (1.9.3)\nRequirement already satisfied: frozenlist>=1.1.1 in /opt/conda/lib/python3.10/site-packages (from aiohttp->datasets>=2.0.0->evaluate) (1.4.1)\nRequirement already satisfied: aiosignal>=1.1.2 in /opt/conda/lib/python3.10/site-packages (from aiohttp->datasets>=2.0.0->evaluate) (1.3.1)\nRequirement already satisfied: async-timeout<5.0,>=4.0 in /opt/conda/lib/python3.10/site-packages (from aiohttp->datasets>=2.0.0->evaluate) (4.0.3)\nRequirement already satisfied: six>=1.5 in /opt/conda/lib/python3.10/site-packages (from python-dateutil>=2.8.2->pandas->evaluate) (1.16.0)\nDownloading evaluate-0.4.1-py3-none-any.whl (84 kB)\n\u001B[2K   \u001B[90m━━━━━━━━━━━━━━━━━━━━━━━━━━━━━━━━━━━━━━━━\u001B[0m \u001B[32m84.1/84.1 kB\u001B[0m \u001B[31m4.4 MB/s\u001B[0m eta \u001B[36m0:00:00\u001B[0m\n\u001B[?25hDownloading responses-0.18.0-py3-none-any.whl (38 kB)\nInstalling collected packages: responses, evaluate\nSuccessfully installed evaluate-0.4.1 responses-0.18.0\n",
     "output_type": "stream"
    }
   ]
  },
  {
   "cell_type": "code",
   "source": [
    "import evaluate\n",
    "\n",
    "acc_metric = evaluate.load(\"accuracy\")\n",
    "f1_metric = evaluate.load(\"f1\")"
   ],
   "metadata": {
    "id": "SYh9cICOzZ3P",
    "executionInfo": {
     "status": "ok",
     "timestamp": 1713336176268,
     "user_tz": -480,
     "elapsed": 4118,
     "user": {
      "displayName": "andy shen",
      "userId": "14092356806547664356"
     }
    },
    "execution": {
     "iopub.status.busy": "2024-04-17T07:08:13.977313Z",
     "iopub.execute_input": "2024-04-17T07:08:13.977677Z",
     "iopub.status.idle": "2024-04-17T07:08:15.730100Z",
     "shell.execute_reply.started": "2024-04-17T07:08:13.977646Z",
     "shell.execute_reply": "2024-04-17T07:08:15.729373Z"
    },
    "trusted": true
   },
   "execution_count": 14,
   "outputs": [
    {
     "output_type": "display_data",
     "data": {
      "text/plain": "Downloading builder script:   0%|          | 0.00/4.20k [00:00<?, ?B/s]",
      "application/vnd.jupyter.widget-view+json": {
       "version_major": 2,
       "version_minor": 0,
       "model_id": "a613e8662bfb4322866b365d27873164"
      }
     },
     "metadata": {}
    },
    {
     "output_type": "display_data",
     "data": {
      "text/plain": "Downloading builder script:   0%|          | 0.00/6.77k [00:00<?, ?B/s]",
      "application/vnd.jupyter.widget-view+json": {
       "version_major": 2,
       "version_minor": 0,
       "model_id": "8aa47c9c6a3042aa8993d723f12f79d3"
      }
     },
     "metadata": {}
    }
   ]
  },
  {
   "cell_type": "code",
   "source": [
    "def eval_metric(eval_predict):\n",
    "    predictions, labels = eval_predict\n",
    "    predictions = predictions.argmax(axis=-1)\n",
    "    acc = acc_metric.compute(predictions=predictions, references=labels)\n",
    "    return acc"
   ],
   "metadata": {
    "id": "GNcT0GVCzdwE",
    "executionInfo": {
     "status": "ok",
     "timestamp": 1713336176268,
     "user_tz": -480,
     "elapsed": 5,
     "user": {
      "displayName": "andy shen",
      "userId": "14092356806547664356"
     }
    },
    "execution": {
     "iopub.status.busy": "2024-04-17T07:22:22.519620Z",
     "iopub.execute_input": "2024-04-17T07:22:22.520282Z",
     "iopub.status.idle": "2024-04-17T07:22:22.525994Z",
     "shell.execute_reply.started": "2024-04-17T07:22:22.520239Z",
     "shell.execute_reply": "2024-04-17T07:22:22.525111Z"
    },
    "trusted": true
   },
   "execution_count": 39,
   "outputs": []
  },
  {
   "cell_type": "code",
   "source": [
    "train_args = TrainingArguments(output_dir=\"./checkpoints\",      # 输出文件夹\n",
    "                               per_device_train_batch_size=64,  # 训练时的batch_size\n",
    "                               per_device_eval_batch_size=128,  # 验证时的batch_size\n",
    "                               logging_steps=10,                # log 打印的频率\n",
    "                               evaluation_strategy=\"epoch\",     # 评估策略\n",
    "                               save_strategy=\"epoch\",           # 保存策略\n",
    "                               save_total_limit=3,              # 最大保存数\n",
    "                               learning_rate=2e-5,              # 学习率\n",
    "                               weight_decay=0.01,               # weight_decay\n",
    "                               metric_for_best_model=\"accuracy\",      # 设定评估指标\n",
    "                               load_best_model_at_end=True,      # 训练完成后加载最优模型\n",
    "                               report_to=['tensorboard']\n",
    "                              )    \n",
    "train_args"
   ],
   "metadata": {
    "colab": {
     "base_uri": "https://localhost:8080/",
     "height": 533
    },
    "id": "HHi6Y72_zooj",
    "executionInfo": {
     "status": "error",
     "timestamp": 1712564650313,
     "user_tz": -480,
     "elapsed": 553,
     "user": {
      "displayName": "andy shen",
      "userId": "14092356806547664356"
     }
    },
    "outputId": "f4bf6ed7-9b10-4847-a2cc-6d66b636275f",
    "execution": {
     "iopub.status.busy": "2024-04-17T07:22:23.079937Z",
     "iopub.execute_input": "2024-04-17T07:22:23.080918Z",
     "iopub.status.idle": "2024-04-17T07:22:23.090534Z",
     "shell.execute_reply.started": "2024-04-17T07:22:23.080884Z",
     "shell.execute_reply": "2024-04-17T07:22:23.089594Z"
    },
    "trusted": true
   },
   "execution_count": 40,
   "outputs": [
    {
     "execution_count": 40,
     "output_type": "execute_result",
     "data": {
      "text/plain": "TrainingArguments(\n_n_gpu=1,\naccelerator_config={'split_batches': False, 'dispatch_batches': None, 'even_batches': True, 'use_seedable_sampler': True},\nadafactor=False,\nadam_beta1=0.9,\nadam_beta2=0.999,\nadam_epsilon=1e-08,\nauto_find_batch_size=False,\nbf16=False,\nbf16_full_eval=False,\ndata_seed=None,\ndataloader_drop_last=False,\ndataloader_num_workers=0,\ndataloader_persistent_workers=False,\ndataloader_pin_memory=True,\ndataloader_prefetch_factor=None,\nddp_backend=None,\nddp_broadcast_buffers=None,\nddp_bucket_cap_mb=None,\nddp_find_unused_parameters=None,\nddp_timeout=1800,\ndebug=[],\ndeepspeed=None,\ndisable_tqdm=False,\ndispatch_batches=None,\ndo_eval=True,\ndo_predict=False,\ndo_train=False,\neval_accumulation_steps=None,\neval_delay=0,\neval_steps=None,\nevaluation_strategy=epoch,\nfp16=False,\nfp16_backend=auto,\nfp16_full_eval=False,\nfp16_opt_level=O1,\nfsdp=[],\nfsdp_config={'min_num_params': 0, 'xla': False, 'xla_fsdp_v2': False, 'xla_fsdp_grad_ckpt': False},\nfsdp_min_num_params=0,\nfsdp_transformer_layer_cls_to_wrap=None,\nfull_determinism=False,\ngradient_accumulation_steps=1,\ngradient_checkpointing=False,\ngradient_checkpointing_kwargs=None,\ngreater_is_better=True,\ngroup_by_length=False,\nhalf_precision_backend=auto,\nhub_always_push=False,\nhub_model_id=None,\nhub_private_repo=False,\nhub_strategy=every_save,\nhub_token=<HUB_TOKEN>,\nignore_data_skip=False,\ninclude_inputs_for_metrics=False,\ninclude_num_input_tokens_seen=False,\ninclude_tokens_per_second=False,\njit_mode_eval=False,\nlabel_names=None,\nlabel_smoothing_factor=0.0,\nlearning_rate=2e-05,\nlength_column_name=length,\nload_best_model_at_end=True,\nlocal_rank=0,\nlog_level=passive,\nlog_level_replica=warning,\nlog_on_each_node=True,\nlogging_dir=./checkpoints/runs/Apr17_07-22-23_12c3df134e25,\nlogging_first_step=False,\nlogging_nan_inf_filter=True,\nlogging_steps=10,\nlogging_strategy=steps,\nlr_scheduler_kwargs={},\nlr_scheduler_type=linear,\nmax_grad_norm=1.0,\nmax_steps=-1,\nmetric_for_best_model=accuracy,\nmp_parameters=,\nneftune_noise_alpha=None,\nno_cuda=False,\nnum_train_epochs=3.0,\noptim=adamw_torch,\noptim_args=None,\noptim_target_modules=None,\noutput_dir=./checkpoints,\noverwrite_output_dir=False,\npast_index=-1,\nper_device_eval_batch_size=128,\nper_device_train_batch_size=64,\nprediction_loss_only=False,\npush_to_hub=False,\npush_to_hub_model_id=None,\npush_to_hub_organization=None,\npush_to_hub_token=<PUSH_TO_HUB_TOKEN>,\nray_scope=last,\nremove_unused_columns=True,\nreport_to=['tensorboard'],\nresume_from_checkpoint=None,\nrun_name=./checkpoints,\nsave_on_each_node=False,\nsave_only_model=False,\nsave_safetensors=True,\nsave_steps=500,\nsave_strategy=epoch,\nsave_total_limit=3,\nseed=42,\nskip_memory_metrics=True,\nsplit_batches=None,\ntf32=None,\ntorch_compile=False,\ntorch_compile_backend=None,\ntorch_compile_mode=None,\ntorchdynamo=None,\ntpu_metrics_debug=False,\ntpu_num_cores=None,\nuse_cpu=False,\nuse_ipex=False,\nuse_legacy_prediction_loop=False,\nuse_mps_device=False,\nwarmup_ratio=0.0,\nwarmup_steps=0,\nweight_decay=0.01,\n)"
     },
     "metadata": {}
    }
   ]
  },
  {
   "cell_type": "code",
   "source": [
    "from transformers import DataCollatorWithPadding\n",
    "trainer = Trainer(model=model,\n",
    "                  args=train_args,\n",
    "                  train_dataset=tokenized_datasets[\"train\"],\n",
    "                  eval_dataset=tokenized_datasets[\"test\"],\n",
    "                  data_collator=DataCollatorWithPadding(tokenizer=tokenizer),\n",
    "                  compute_metrics=eval_metric)"
   ],
   "metadata": {
    "id": "7km_DqM70PWV",
    "executionInfo": {
     "status": "ok",
     "timestamp": 1713336183233,
     "user_tz": -480,
     "elapsed": 4,
     "user": {
      "displayName": "andy shen",
      "userId": "14092356806547664356"
     }
    },
    "colab": {
     "base_uri": "https://localhost:8080/"
    },
    "outputId": "1037f94c-a917-445b-e02f-976eac6e528b",
    "execution": {
     "iopub.status.busy": "2024-04-17T07:22:23.893047Z",
     "iopub.execute_input": "2024-04-17T07:22:23.893745Z",
     "iopub.status.idle": "2024-04-17T07:22:23.908611Z",
     "shell.execute_reply.started": "2024-04-17T07:22:23.893714Z",
     "shell.execute_reply": "2024-04-17T07:22:23.907747Z"
    },
    "trusted": true
   },
   "execution_count": 41,
   "outputs": [
    {
     "name": "stderr",
     "text": "/opt/conda/lib/python3.10/site-packages/accelerate/accelerator.py:432: FutureWarning: Passing the following arguments to `Accelerator` is deprecated and will be removed in version 1.0 of Accelerate: dict_keys(['dispatch_batches', 'split_batches', 'even_batches', 'use_seedable_sampler']). Please pass an `accelerate.DataLoaderConfiguration` instead: \ndataloader_config = DataLoaderConfiguration(dispatch_batches=None, split_batches=False, even_batches=True, use_seedable_sampler=True)\n  warnings.warn(\n",
     "output_type": "stream"
    }
   ]
  },
  {
   "cell_type": "code",
   "source": [
    "trainer.train()"
   ],
   "metadata": {
    "id": "XT_qMnNp0u9O",
    "colab": {
     "base_uri": "https://localhost:8080/",
     "height": 75
    },
    "outputId": "efc2dabd-8273-4a7c-91a0-a1ab1b7ff4c7",
    "execution": {
     "iopub.status.busy": "2024-04-17T07:22:25.065656Z",
     "iopub.execute_input": "2024-04-17T07:22:25.068781Z",
     "iopub.status.idle": "2024-04-17T07:23:05.640537Z",
     "shell.execute_reply.started": "2024-04-17T07:22:25.068739Z",
     "shell.execute_reply": "2024-04-17T07:23:05.639466Z"
    },
    "trusted": true
   },
   "execution_count": 42,
   "outputs": [
    {
     "output_type": "display_data",
     "data": {
      "text/plain": "<IPython.core.display.HTML object>",
      "text/html": "\n    <div>\n      \n      <progress value='39' max='39' style='width:300px; height:20px; vertical-align: middle;'></progress>\n      [39/39 00:39, Epoch 3/3]\n    </div>\n    <table border=\"1\" class=\"dataframe\">\n  <thead>\n <tr style=\"text-align: left;\">\n      <th>Epoch</th>\n      <th>Training Loss</th>\n      <th>Validation Loss</th>\n      <th>Accuracy</th>\n    </tr>\n  </thead>\n  <tbody>\n    <tr>\n      <td>1</td>\n      <td>0.067200</td>\n      <td>0.087545</td>\n      <td>0.980000</td>\n    </tr>\n    <tr>\n      <td>2</td>\n      <td>0.059600</td>\n      <td>0.072355</td>\n      <td>0.980000</td>\n    </tr>\n    <tr>\n      <td>3</td>\n      <td>0.036700</td>\n      <td>0.065299</td>\n      <td>0.980000</td>\n    </tr>\n  </tbody>\n</table><p>"
     },
     "metadata": {}
    },
    {
     "execution_count": 42,
     "output_type": "execute_result",
     "data": {
      "text/plain": "TrainOutput(global_step=39, training_loss=0.04902342343941713, metrics={'train_runtime': 39.8211, 'train_samples_per_second': 60.269, 'train_steps_per_second': 0.979, 'total_flos': 157877972582400.0, 'train_loss': 0.04902342343941713, 'epoch': 3.0})"
     },
     "metadata": {}
    }
   ]
  },
  {
   "cell_type": "code",
   "source": [
    "trainer.evaluate(tokenized_datasets[\"test\"])"
   ],
   "metadata": {
    "id": "Z4fWhWCw03yB",
    "execution": {
     "iopub.status.busy": "2024-04-17T07:23:18.333723Z",
     "iopub.execute_input": "2024-04-17T07:23:18.334357Z",
     "iopub.status.idle": "2024-04-17T07:23:19.159541Z",
     "shell.execute_reply.started": "2024-04-17T07:23:18.334325Z",
     "shell.execute_reply": "2024-04-17T07:23:19.158603Z"
    },
    "trusted": true
   },
   "execution_count": 43,
   "outputs": [
    {
     "output_type": "display_data",
     "data": {
      "text/plain": "<IPython.core.display.HTML object>",
      "text/html": ""
     },
     "metadata": {}
    },
    {
     "execution_count": 43,
     "output_type": "execute_result",
     "data": {
      "text/plain": "{'eval_loss': 0.08754459023475647,\n 'eval_accuracy': 0.98,\n 'eval_runtime': 0.8151,\n 'eval_samples_per_second': 245.368,\n 'eval_steps_per_second': 2.454,\n 'epoch': 3.0}"
     },
     "metadata": {}
    }
   ]
  },
  {
   "cell_type": "code",
   "source": [
    "trainer.predict(tokenized_datasets[\"test\"])"
   ],
   "metadata": {
    "id": "S7p9x7GAzAz3",
    "execution": {
     "iopub.status.busy": "2024-04-17T07:24:38.002287Z",
     "iopub.execute_input": "2024-04-17T07:24:38.003343Z",
     "iopub.status.idle": "2024-04-17T07:24:38.841598Z",
     "shell.execute_reply.started": "2024-04-17T07:24:38.003310Z",
     "shell.execute_reply": "2024-04-17T07:24:38.840700Z"
    },
    "trusted": true
   },
   "execution_count": 44,
   "outputs": [
    {
     "execution_count": 44,
     "output_type": "execute_result",
     "data": {
      "text/plain": "PredictionOutput(predictions=array([[-1.1238894 , -1.1777285 , -0.5195459 , ...,  4.829511  ,\n        -0.35051307, -0.80929947],\n       [-0.01959847,  5.07517   , -1.028982  , ..., -0.9674754 ,\n        -0.14434259, -0.29346186],\n       [-0.78315926, -1.1029011 , -0.8485481 , ..., -0.5813239 ,\n        -1.188333  , -0.8094628 ],\n       ...,\n       [-0.14287795, -0.9206116 ,  0.17444097, ..., -0.49079615,\n        -0.5668939 ,  5.0414214 ],\n       [-0.6064959 , -0.51849574, -0.44860598, ..., -0.15690486,\n        -0.8818646 , -1.3322617 ],\n       [-0.55834967, -1.1203219 ,  4.8613696 , ..., -0.13031597,\n        -0.17338564, -0.3073368 ]], dtype=float32), label_ids=array([7, 1, 6, 1, 8, 3, 0, 4, 2, 1, 1, 6, 7, 2, 6, 8, 5, 3, 5, 0, 2, 6,\n       1, 8, 6, 4, 9, 8, 7, 1, 5, 3, 6, 2, 1, 9, 9, 2, 0, 1, 3, 3, 0, 6,\n       4, 6, 8, 5, 6, 6, 6, 7, 4, 0, 5, 0, 2, 9, 6, 8, 4, 0, 6, 9, 5, 0,\n       6, 8, 6, 9, 2, 2, 9, 6, 2, 5, 4, 8, 3, 4, 2, 2, 0, 0, 4, 5, 8, 1,\n       1, 8, 3, 6, 8, 4, 0, 5, 9, 8, 1, 6, 4, 7, 1, 6, 7, 9, 5, 1, 0, 0,\n       9, 7, 3, 7, 6, 7, 3, 5, 8, 8, 5, 6, 2, 1, 4, 3, 4, 9, 4, 8, 9, 9,\n       8, 0, 6, 6, 2, 8, 2, 9, 5, 6, 3, 5, 4, 3, 9, 0, 8, 6, 2, 8, 8, 1,\n       8, 1, 0, 4, 3, 2, 1, 0, 5, 9, 6, 6, 2, 6, 3, 0, 4, 3, 1, 6, 3, 2,\n       7, 2, 3, 4, 0, 7, 1, 9, 4, 5, 3, 5, 3, 5, 1, 6, 4, 8, 1, 5, 1, 9,\n       5, 2]), metrics={'test_loss': 0.08754459023475647, 'test_accuracy': 0.98, 'test_runtime': 0.8267, 'test_samples_per_second': 241.92, 'test_steps_per_second': 2.419})"
     },
     "metadata": {}
    }
   ]
  },
  {
   "cell_type": "code",
   "source": [
    "from transformers import pipeline\n",
    "\n",
    "pipe = pipeline(\"text-classification\", model=model, tokenizer=tokenizer, device=0)"
   ],
   "metadata": {
    "execution": {
     "iopub.status.busy": "2024-04-17T07:25:22.536272Z",
     "iopub.execute_input": "2024-04-17T07:25:22.536973Z",
     "iopub.status.idle": "2024-04-17T07:25:22.545949Z",
     "shell.execute_reply.started": "2024-04-17T07:25:22.536942Z",
     "shell.execute_reply": "2024-04-17T07:25:22.545047Z"
    },
    "trusted": true
   },
   "execution_count": 46,
   "outputs": []
  },
  {
   "cell_type": "code",
   "source": [
    "id2label_dic={}\n",
    "for k,v in label_mapping.items():\n",
    "    id2label_dic[v] = k"
   ],
   "metadata": {
    "execution": {
     "iopub.status.busy": "2024-04-17T07:38:52.870444Z",
     "iopub.execute_input": "2024-04-17T07:38:52.870801Z",
     "iopub.status.idle": "2024-04-17T07:38:52.875207Z",
     "shell.execute_reply.started": "2024-04-17T07:38:52.870772Z",
     "shell.execute_reply": "2024-04-17T07:38:52.874281Z"
    },
    "trusted": true
   },
   "execution_count": 68,
   "outputs": []
  },
  {
   "cell_type": "code",
   "source": [
    "id2label_dic"
   ],
   "metadata": {
    "execution": {
     "iopub.status.busy": "2024-04-17T07:38:53.647882Z",
     "iopub.execute_input": "2024-04-17T07:38:53.648312Z",
     "iopub.status.idle": "2024-04-17T07:38:53.654318Z",
     "shell.execute_reply.started": "2024-04-17T07:38:53.648275Z",
     "shell.execute_reply": "2024-04-17T07:38:53.653450Z"
    },
    "trusted": true
   },
   "execution_count": 69,
   "outputs": [
    {
     "execution_count": 69,
     "output_type": "execute_result",
     "data": {
      "text/plain": "{4: '教育',\n 0: '体育',\n 8: '科技',\n 5: '时尚',\n 3: '房产',\n 2: '家居',\n 9: '财经',\n 6: '时政',\n 1: '娱乐',\n 7: '游戏'}"
     },
     "metadata": {}
    }
   ]
  },
  {
   "cell_type": "code",
   "source": [
    "model.config.id2label = id2label_dic\n",
    "sen = \"快船vs火箭首发：休城旨在练兵 小德帕特森进先发新浪体育讯北京时间4月10日消息，在常规赛还剩下三场的时候，火箭已经彻底的失去了进军季后赛的希望。所以今天战快船旨在练兵，再加上洛瑞一直有伤，帕特森和德拉季奇则接替小钢炮和斯科拉首发出场。以下为双方本场比赛的首发阵容：快船：威廉姆斯、戈登、穆恩、格里芬、乔丹火箭：德拉季奇、马丁、巴丁格、帕特森、海耶斯(新体)！\"\n",
    "pipe(sen)"
   ],
   "metadata": {
    "execution": {
     "iopub.status.busy": "2024-04-17T07:39:55.782558Z",
     "iopub.execute_input": "2024-04-17T07:39:55.782976Z",
     "iopub.status.idle": "2024-04-17T07:39:55.805985Z",
     "shell.execute_reply.started": "2024-04-17T07:39:55.782932Z",
     "shell.execute_reply": "2024-04-17T07:39:55.804988Z"
    },
    "trusted": true
   },
   "execution_count": 71,
   "outputs": [
    {
     "execution_count": 71,
     "output_type": "execute_result",
     "data": {
      "text/plain": "[{'label': '体育', 'score': 0.9791619777679443}]"
     },
     "metadata": {}
    }
   ]
  },
  {
   "cell_type": "code",
   "source": [],
   "metadata": {},
   "execution_count": null,
   "outputs": []
  }
 ]
}
